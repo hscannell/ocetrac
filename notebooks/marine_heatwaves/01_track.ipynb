{
 "cells": [
  {
   "cell_type": "markdown",
   "metadata": {},
   "source": [
    "# 01_track.ipynb\n",
    "### Use Ocetrac to define track MHW objects \n",
    "\n",
    "This notebook provides an example of how one might preprocess gridded sea surface temperature (SST) data to extract anomalies and detect extreme values. Here we will use monthly mean SST from the [NOAA Optimum Interpolation Sea Surface Temperature](https://www.ncdc.noaa.gov/oisst/data-access) (OISST v2.1) dataset. This data is measured from a blend of satellite and in-situ observations. We elect to use data from AVHRR-only satellites. This product is available from September 1981 through present on a 1/4º global regular grid."
   ]
  },
  {
   "cell_type": "code",
   "execution_count": null,
   "metadata": {},
   "outputs": [
    {
     "name": "stdout",
     "output_type": "stream",
     "text": [
      "Using OCETRAC version 0.0.10\n"
     ]
    }
   ],
   "source": [
    "import xarray as xr\n",
    "import matplotlib.pyplot as plt\n",
    "import ocetrac\n",
    "print('Using OCETRAC version',ocetrac.__version__)"
   ]
  },
  {
   "cell_type": "markdown",
   "metadata": {},
   "source": [
    "### 1. Import preprocessed data"
   ]
  },
  {
   "cell_type": "code",
   "execution_count": null,
   "metadata": {},
   "outputs": [],
   "source": [
    "# file_path = '/glade/scratch/scanh/MHW_pre/preprocess_mhw_OISST_monthly_noTrend_stn_quarterdegree_global.nc'\n",
    "file_path = '/glade/scratch/scanh/MHW_pre/preprocess_mhw_OISSTv2_monthly_notrend_stn.nc'\n",
    "ds = xr.open_dataset(file_path, decode_times=True)\n",
    "ds"
   ]
  },
  {
   "cell_type": "code",
   "execution_count": null,
   "metadata": {},
   "outputs": [],
   "source": [
    "# plot of SSTA that exceeds a predefined threshold (e.g. 90th percentile)\n",
    "ds.mhw_ssta_notrend.sel(time=('2014-2-01')).plot(vmin=-3, vmax=3, cmap='RdBu_r', extend='both');"
   ]
  },
  {
   "cell_type": "code",
   "execution_count": null,
   "metadata": {},
   "outputs": [],
   "source": [
    "%%time\n",
    "labels = ocetrac.track(ds.mhw_ssta_notrend, radius=8, area_quantile=0.75)"
   ]
  },
  {
   "cell_type": "markdown",
   "metadata": {},
   "source": [
    "**The basic output of `ocetrac.track` provides:**\n",
    "- the minimum object area used to filter out MHWs that are smaller than this threshold. Area is computed for all objects at each time step. `Ocetrac` looks at the global distribution of object area and finds the size that corresponds to a certain percentile defined by `area_quantile`, which can range from 0.0 to 1.0. Larger values for `area_quantile` exclude more MHW objects and will increase the minimum object area threshold. \n",
    "- inital features identified have undergone size thresholding, however are not connected in time. \n",
    "- final features tracked are the number of unique MHW objects tracked in space and time. "
   ]
  },
  {
   "cell_type": "code",
   "execution_count": null,
   "metadata": {},
   "outputs": [],
   "source": [
    "# Make a quick plot of the labeled MHWs identified with Ocetrac\n",
    "labels.sel(time=('2014-2-01')).plot();"
   ]
  },
  {
   "cell_type": "markdown",
   "metadata": {},
   "source": [
    "### Save tracked labels"
   ]
  },
  {
   "cell_type": "code",
   "execution_count": null,
   "metadata": {},
   "outputs": [],
   "source": [
    "# Specify path to save output \n",
    "out_path = '/glade/scratch/scanh/ocetrac_data/'\n",
    "\n",
    "# Convert xarray DatAarray to Dataset\n",
    "ds = labels.to_dataset(name='ocetrac_labels')\n",
    "ds.attrs['threshold'] = 0.9\n",
    "\n",
    "# Save Dataset to netCDF\n",
    "ds.to_netcdf(out_path+'ocetrac_labels_montly_OISST_noTrend_stn_quarterdegree_global.nc', mode='w')\n"
   ]
  }
 ],
 "metadata": {
  "kernelspec": {
   "display_name": "Python [conda env:miniconda3-ocetrac-2020]",
   "language": "python",
   "name": "conda-env-miniconda3-ocetrac-2020-py"
  }
 },
 "nbformat": 4,
 "nbformat_minor": 4
}
