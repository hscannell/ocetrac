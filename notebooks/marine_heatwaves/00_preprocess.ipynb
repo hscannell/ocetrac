{
 "cells": [
  {
   "cell_type": "markdown",
   "metadata": {},
   "source": [
    "# 00_preprocess.ipynb\n",
    "### Preprocess Gridded Data to find Anomalies and Extreme Values\n",
    "\n",
    "This notebook provides an example of how one might preprocess gridded sea surface temperature (SST) data to extract anomalies and detect extreme values. Here we will use monthly mean SST from the [NOAA Optimum Interpolation Sea Surface Temperature](https://www.ncdc.noaa.gov/oisst/data-access) (OISST v2.1) dataset. This data is measured from a blend of satellite and in-situ observations. We elect to use data from AVHRR-only satellites. This product is available from September 1981 through present on a 1/4º global regular grid."
   ]
  },
  {
   "cell_type": "code",
   "execution_count": null,
   "metadata": {},
   "outputs": [],
   "source": [
    "import xarray as xr\n",
    "import numpy as np\n",
    "import pandas as pd\n",
    "import matplotlib.pyplot as plt\n",
    "import warnings\n",
    "warnings.filterwarnings('ignore')"
   ]
  },
  {
   "cell_type": "markdown",
   "metadata": {},
   "source": [
    "### 1. Import data\n",
    "- load the daily OISST dataset and resample to monthly means\n",
    "- load the landmask "
   ]
  },
  {
   "cell_type": "code",
   "execution_count": null,
   "metadata": {},
   "outputs": [],
   "source": [
    "# Import daily OISST\n",
    "path = '/glade/scratch/scanh/OISST/'\n",
    "ds = xr.open_mfdataset(path+'avhrr-only-v2.*.nc', decode_times=True, combine='by_coords')\n",
    "\n",
    "# Calculate monthly mean SST\n",
    "mnsst = ds.sst.squeeze().resample(time='MS').mean().squeeze()\n",
    "mnsst.load();"
   ]
  },
  {
   "cell_type": "code",
   "execution_count": null,
   "metadata": {},
   "outputs": [],
   "source": [
    "# import land mask\n",
    "dm = xr.open_dataset(path+'lsmask.nc', decode_times=True)\n",
    "reproject = np.flipud(dm.mask[0, :,:].transpose('lat', 'lon'))\n",
    "land_mask = xr.DataArray(reproject, dims=['lat','lon'], coords={'lat':dm.lat, 'lon':dm.lon})  \n"
   ]
  },
  {
   "cell_type": "code",
   "execution_count": null,
   "metadata": {},
   "outputs": [
    {
     "data": {
      "text/plain": [
       "<matplotlib.colorbar.Colorbar at 0x2af9c0c50b20>"
      ]
     },
     "execution_count": null,
     "metadata": {},
     "output_type": "execute_result"
    },
    {
     "data": {
      "image/png": "[encoded data removed]",
      "text/plain": [
       "<Figure size 432x288 with 2 Axes>"
      ]
     },
     "metadata": {
      "needs_background": "light"
     },
     "output_type": "display_data"
    }
   ],
   "source": [
    "plt.pcolormesh(land_mask); plt.colorbar()"
   ]
  },
  {
   "cell_type": "code",
   "execution_count": null,
   "metadata": {},
   "outputs": [],
   "source": [
    "years = pd.DatetimeIndex(mnsst.time.values).year\n",
    "months = pd.DatetimeIndex(mnsst.time.values).month\n",
    "dyr = []\n",
    "for i in enumerate(years):\n",
    "    I = i[1] + ((months[i[0]]-0.5)/12)\n",
    "    dyr.append(I)\n",
    "dyr = np.array(dyr)"
   ]
  },
  {
   "cell_type": "markdown",
   "metadata": {},
   "source": [
    "### 2. Fit mean, trend, annual, and semi-annual harmonics to SST over entire record¶\n"
   ]
  },
  {
   "cell_type": "code",
   "execution_count": null,
   "metadata": {},
   "outputs": [],
   "source": [
    "# Our 6 coefficient model is composed of the mean, trend, annual sine and cosine harmonics, & semi-annual sine and cosine harmonics\n",
    "model = np.array([np.ones(len(dyr))] + [dyr-np.mean(dyr)] + [np.sin(2*np.pi*dyr)] + [np.cos(2*np.pi*dyr)] + [np.sin(4*np.pi*dyr)] + [np.cos(4*np.pi*dyr)])\n",
    "\n",
    "# Take the pseudo-inverse of model to 'solve' least-squares problem\n",
    "pmodel = np.linalg.pinv(model)\n",
    "\n",
    "# Convert model and pmodel to xaray DataArray\n",
    "model_da = xr.DataArray(model.T, dims=['time','coeff'], coords={'time':mnsst.time.values, 'coeff':np.arange(1,7,1)}) \n",
    "pmodel_da = xr.DataArray(pmodel.T, dims=['coeff','time'], coords={'coeff':np.arange(1,7,1), 'time':mnsst.time.values})  \n",
    "\n",
    "# resulting coefficients of the model\n",
    "sst_mod = xr.DataArray(pmodel_da.dot(mnsst), dims=['coeff','lat','lon'], coords={'coeff':np.arange(1,7,1), 'lat':mnsst.lat.values, 'lon':mnsst.lon.values})  \n",
    "\n",
    "# Construction of the mean, trend, and seasonal cycle\n",
    "mean = xr.DataArray(model_da[:,0].dot(sst_mod[0,:,:]), dims=['time','lat','lon'], coords={'time':mnsst.time, 'lat':mnsst.lat.values, 'lon':mnsst.lon.values})   \n",
    "trend = xr.DataArray(model_da[:,1].dot(sst_mod[1,:,:]), dims=['time','lat','lon'], coords={'time':mnsst.time, 'lat':mnsst.lat.values, 'lon':mnsst.lon.values})    \n",
    "seas = xr.DataArray(model_da[:,2:].dot(sst_mod[2:,:,:]), dims=['time','lat','lon'], coords={'time':mnsst.time, 'lat':mnsst.lat.values, 'lon':mnsst.lon.values})"
   ]
  },
  {
   "cell_type": "markdown",
   "metadata": {},
   "source": [
    "### 3. Compute SST anomalies (SSTa) and detrend"
   ]
  },
  {
   "cell_type": "code",
   "execution_count": null,
   "metadata": {},
   "outputs": [],
   "source": [
    "# redefine SST with and without the trend\n",
    "sst_notrend = xr.DataArray((mnsst-trend).values, dims=['time','lat','lon'], coords={'time':mnsst.time, 'lat':mnsst.lat.values, 'lon':mnsst.lon.values})  \n",
    "sst_trend = xr.DataArray(mnsst.values, dims=['time','lat','lon'], coords={'time': mnsst.time, 'lat':mnsst.lat.values, 'lon':mnsst.lon.values})  \n",
    "\n",
    "# compute anomalies (SSTa) by removing model coefficients – with and without the trend\n",
    "ssta_notrend = xr.DataArray((mnsst.values-model_da.dot(sst_mod)).values, dims=['time','lat','lon'], coords={'time':mnsst.time, 'lat':mnsst.lat.values, 'lon':mnsst.lon.values}) \n",
    "ssta_trend = xr.DataArray((mnsst.values-model_da.dot(sst_mod[[0,2,3,4,5],:,:])).values, dims=['time','lat','lon'], coords={'time':mnsst.time, 'lat':mnsst.lat.values, 'lon':mnsst.lon.values})"
   ]
  },
  {
   "cell_type": "markdown",
   "metadata": {},
   "source": [
    "### 4. Standardized SSTa by dividing by the monthly standard deviation\n",
    "This step places equal variance on SSTa at all spatial points"
   ]
  },
  {
   "cell_type": "code",
   "execution_count": null,
   "metadata": {},
   "outputs": [],
   "source": [
    "# compute monthly standard deviation\n",
    "stdev_notrend = ssta_notrend.groupby(ssta_notrend.time.dt.month).std()\n",
    "stdev_trend = ssta_trend.groupby(ssta_trend.time.dt.month).std()\n",
    "\n",
    "# Initalize xarray DataArray for SSTa with and without trend\n",
    "ssta_stn_notrend = np.empty((ssta_notrend.shape[0], ssta_notrend.shape[1], ssta_notrend.shape[2])) \n",
    "ssta_stn_notrend[:] = np.nan\n",
    "ssta_stn_notrend = xr.DataArray(ssta_stn_notrend, dims=['time','lat','lon'], coords={'time':mnsst.time, 'lat':mnsst.lat.values, 'lon':mnsst.lon.values}) \n",
    "\n",
    "ssta_stn_trend = np.empty((ssta_trend.shape[0], ssta_trend.shape[1], ssta_trend.shape[2])) \n",
    "ssta_stn_trend[:] = np.nan\n",
    "ssta_stn_trend = xr.DataArray(ssta_stn_trend, dims=['time','lat','lon'], coords={'time':mnsst.time, 'lat':mnsst.lat.values, 'lon':mnsst.lon.values}) \n",
    "\n",
    "# Loop over months and divde by standard deviation\n",
    "for i in np.arange(1,13):\n",
    "    I = np.where(mnsst.time.dt.month==i)[0]\n",
    "    ssta_stn_notrend[I,:,:] = ssta_notrend[I,:,:]/stdev_notrend[i-1,:,:]\n",
    "    ssta_stn_trend[I,:,:] = ssta_trend[I,:,:]/stdev_trend[i-1,:,:]"
   ]
  },
  {
   "cell_type": "markdown",
   "metadata": {},
   "source": [
    "### 5. Define a threshold to define extreme values\n",
    "Here we will use the 90th percentile relative to the monthly values over the entire record"
   ]
  },
  {
   "cell_type": "code",
   "execution_count": null,
   "metadata": {},
   "outputs": [],
   "source": [
    "# Define extreme threshold as the 90th percentile\n",
    "thresh = .9\n",
    "\n",
    "# Compute values of the monthly threshold\n",
    "prct_notrend = sst_notrend.groupby(sst_notrend.time.dt.month).quantile(thresh, dim='time', interpolation='linear', keep_attrs=True, skipna=True)\n",
    "prct_trend = sst_trend.groupby(sst_trend.time.dt.month).quantile(thresh, dim='time', interpolation='linear', keep_attrs=True, skipna=True)"
   ]
  },
  {
   "cell_type": "code",
   "execution_count": null,
   "metadata": {},
   "outputs": [
    {
     "ename": "IndexError",
     "evalue": "tuple index out of range",
     "output_type": "error",
     "traceback": [
      "\u001b[0;31m---------------------------------------------------------------------------\u001b[0m",
      "\u001b[0;31mIndexError\u001b[0m                                Traceback (most recent call last)",
      "\u001b[0;32m<ipython-input-13-2729292925f5>\u001b[0m in \u001b[0;36m<module>\u001b[0;34m\u001b[0m\n\u001b[1;32m      1\u001b[0m \u001b[0;31m# Intialize xarray DataArrays for SSTa relative to the threshold defined above in Step 5.\u001b[0m\u001b[0;34m\u001b[0m\u001b[0;34m\u001b[0m\u001b[0;34m\u001b[0m\u001b[0m\n\u001b[0;32m----> 2\u001b[0;31m \u001b[0mssta_prc_notrend\u001b[0m \u001b[0;34m=\u001b[0m \u001b[0mnp\u001b[0m\u001b[0;34m.\u001b[0m\u001b[0mempty\u001b[0m\u001b[0;34m(\u001b[0m\u001b[0;34m(\u001b[0m\u001b[0msst_notrend\u001b[0m\u001b[0;34m.\u001b[0m\u001b[0mshape\u001b[0m\u001b[0;34m[\u001b[0m\u001b[0;36m0\u001b[0m\u001b[0;34m]\u001b[0m\u001b[0;34m,\u001b[0m \u001b[0msst_notrend\u001b[0m\u001b[0;34m.\u001b[0m\u001b[0mshape\u001b[0m\u001b[0;34m[\u001b[0m\u001b[0;36m1\u001b[0m\u001b[0;34m]\u001b[0m\u001b[0;34m,\u001b[0m \u001b[0msst_notrend\u001b[0m\u001b[0;34m.\u001b[0m\u001b[0mshape\u001b[0m\u001b[0;34m[\u001b[0m\u001b[0;36m2\u001b[0m\u001b[0;34m]\u001b[0m\u001b[0;34m,\u001b[0m \u001b[0mprct_notrend\u001b[0m\u001b[0;34m.\u001b[0m\u001b[0mshape\u001b[0m\u001b[0;34m[\u001b[0m\u001b[0;36m3\u001b[0m\u001b[0;34m]\u001b[0m\u001b[0;34m)\u001b[0m\u001b[0;34m)\u001b[0m\u001b[0;34m\u001b[0m\u001b[0;34m\u001b[0m\u001b[0m\n\u001b[0m\u001b[1;32m      3\u001b[0m \u001b[0mssta_prc_notrend\u001b[0m\u001b[0;34m[\u001b[0m\u001b[0;34m:\u001b[0m\u001b[0;34m]\u001b[0m \u001b[0;34m=\u001b[0m \u001b[0mnp\u001b[0m\u001b[0;34m.\u001b[0m\u001b[0mnan\u001b[0m\u001b[0;34m\u001b[0m\u001b[0;34m\u001b[0m\u001b[0m\n\u001b[1;32m      4\u001b[0m ssta_prc_notrend = xr.DataArray(ssta_prc_notrend,\n\u001b[1;32m      5\u001b[0m                                 \u001b[0mdims\u001b[0m\u001b[0;34m=\u001b[0m\u001b[0;34m(\u001b[0m\u001b[0;34m'time'\u001b[0m\u001b[0;34m,\u001b[0m \u001b[0;34m'lat'\u001b[0m\u001b[0;34m,\u001b[0m \u001b[0;34m'lon'\u001b[0m\u001b[0;34m,\u001b[0m\u001b[0;34m'quantile'\u001b[0m\u001b[0;34m)\u001b[0m\u001b[0;34m,\u001b[0m\u001b[0;34m\u001b[0m\u001b[0;34m\u001b[0m\u001b[0m\n",
      "\u001b[0;31mIndexError\u001b[0m: tuple index out of range"
     ]
    }
   ],
   "source": [
    "# Intialize xarray DataArrays for SSTa relative to the threshold defined above in Step 5.\n",
    "ssta_prc_notrend = np.empty((sst_notrend.shape[0], sst_notrend.shape[1], sst_notrend.shape[2], prct_notrend.shape[3])) \n",
    "ssta_prc_notrend[:] = np.nan\n",
    "ssta_prc_notrend = xr.DataArray(ssta_prc_notrend,\n",
    "                                dims=('time', 'lat', 'lon','quantile'),\n",
    "                                coords={'time': sst_notrend.time.values,\n",
    "                                        'lat': sst_notrend.lat.values,\n",
    "                                        'lon': sst_notrend.lon.values,\n",
    "                                        'quantile':thresh}) \n",
    "\n",
    "ssta_prc_trend = np.empty((sst_trend.shape[0], sst_trend.shape[1], sst_trend.shape[2], prct_trend.shape[3])) \n",
    "ssta_prc_trend[:] = np.nan\n",
    "ssta_prc_trend = xr.DataArray(ssta_prc_trend,\n",
    "                              dims=('time', 'lat', 'lon','quantile'),\n",
    "                              coords={'time': sst_trend.time.values,\n",
    "                                      'lat': sst_trend.lat.values,\n",
    "                                      'lon': sst_trend.lon.values,\n",
    "                                      'quantile':thresh})"
   ]
  },
  {
   "cell_type": "code",
   "execution_count": null,
   "metadata": {},
   "outputs": [],
   "source": [
    "# Loop over months and compute SSTa relative to the threshold defined above in Step 5.  \n",
    "for i in np.arange(1,13,1):\n",
    "    I = np.where(mnsst.time.dt.month==i)[0]\n",
    "    ssta_prc_notrend[I,:,:,:] = sst_notrend[I,:,:]-prct_notrend[i-1,:,:,:] \n",
    "    ssta_prc_trend[I,:,:,:] = sst_trend[I,:,:]-prct_trend[i-1,:,:,:]"
   ]
  },
  {
   "cell_type": "markdown",
   "metadata": {},
   "source": [
    "### 6. Find where the standardized SSTa exceeds the threshold"
   ]
  },
  {
   "cell_type": "code",
   "execution_count": null,
   "metadata": {},
   "outputs": [],
   "source": [
    "# Take only the SSTa that exceeds the calculated monthly threshold\n",
    "mhw_ssta_notrend = ssta_stn_notrend.where(ssta_prc_notrend>0.)\n",
    "mhw_ssta_trend = ssta_stn_trend.where(ssta_prc_trend>0.)"
   ]
  },
  {
   "cell_type": "markdown",
   "metadata": {},
   "source": [
    "### 7. Save the extreme values of SSTa relative to the mean in netCDF format\n",
    "! Need to add land mask to output"
   ]
  },
  {
   "cell_type": "code",
   "execution_count": null,
   "metadata": {},
   "outputs": [],
   "source": [
    "# Specify path to save output \n",
    "save_to = '/glade/scratch/scanh/MHW_pre/'\n",
    "\n",
    "# Convert xarray DatAarray to Dataset\n",
    "mhw_ssta_notrend.compute()\n",
    "mhw_ssta_notrend_ds = mhw_ssta_notrend.to_dataset(name='mhw_ssta_notrend')\n",
    "\n",
    "mhw_ssta_trend.compute()\n",
    "mhw_ssta_trend_ds = mhw_ssta_trend.to_dataset(name='mhw_ssta_trend')\n",
    "\n",
    "# Save Dataset to netCDF\n",
    "mhw_ssta_notrend_ds.to_netcdf(save_to+'preprocess_mhw_OISSTv2_monthly_notrend_stn.nc', mode='w')\n",
    "mhw_ssta_notrend_ds.attrs['threshold'] = 0.9\n",
    "\n",
    "mhw_ssta_trend_ds.to_netcdf(save_to+'preprocess_mhw_OISSTv2_monthly_trend_stn.nc', mode='w')\n",
    "mhw_ssta_trend_ds.attrs['threshold'] = 0.9"
   ]
  },
  {
   "cell_type": "code",
   "execution_count": null,
   "metadata": {},
   "outputs": [],
   "source": []
  }
 ],
 "metadata": {
  "kernelspec": {
   "display_name": "Python [conda env:miniconda3-ocetrac-2020]",
   "language": "python",
   "name": "conda-env-miniconda3-ocetrac-2020-py"
  }
 },
 "nbformat": 4,
 "nbformat_minor": 4
}
