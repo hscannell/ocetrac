{
 "cells": [
  {
   "cell_type": "code",
   "execution_count": null,
   "metadata": {},
   "outputs": [],
   "source": [
    "# default_exp core"
   ]
  },
  {
   "cell_type": "markdown",
   "metadata": {},
   "source": [
    "# Ocetrac\n",
    "\n",
    "> Track and label marine heatwaves from geospatial data. "
   ]
  },
  {
   "cell_type": "code",
   "execution_count": null,
   "metadata": {},
   "outputs": [],
   "source": [
    "#hide\n",
    "from nbdev.showdoc import *"
   ]
  },
  {
   "cell_type": "markdown",
   "metadata": {},
   "source": [
    "## Functions"
   ]
  },
  {
   "cell_type": "code",
   "execution_count": null,
   "metadata": {},
   "outputs": [],
   "source": [
    "#hide\n",
    "def _check_input(da, fieldname):\n",
    "    '''adapted from jbusecke/xmovie/xmovie/presets.py'''\n",
    "    # pick the data_var to plot\n",
    "    if isinstance(da, xr.Dataset):\n",
    "        if fieldname is None:\n",
    "            fieldname = list(da.data_vars)[0]\n",
    "            warnings.warn(\n",
    "                \"No `fieldname` supplied. Defaults to `%s`\" % fieldname, UserWarning\n",
    "            )\n",
    "        data = da[fieldname]\n",
    "    elif isinstance(da, xr.DataArray):\n",
    "        data = da\n",
    "    else:\n",
    "        raise RuntimeWarning(\n",
    "            \"Data must be xr.DataArray or xr.Dataset \\\n",
    "        (with `fieldname` specified). Datatype found %s\"\n",
    "            % type(da)\n",
    "        )\n",
    "    return data"
   ]
  },
  {
   "cell_type": "code",
   "execution_count": null,
   "metadata": {},
   "outputs": [],
   "source": [
    "#hide\n",
    "def _morphological_operations(data, include_poles=False, radius=8): \n",
    "    '''Converts data to binary, defines structuring element, and performs morphological closing then opening'''\n",
    "    if include_poles==False:\n",
    "        bitmap = data.where((data.lat<65) & (data.lat>-70), drop=False, other=np.nan) # Turn data poleward of 65ºN and 70ºS to NaNs\n",
    "    \n",
    "    # Convert to binary\n",
    "    bitmap_binary = bitmap.where(bitmap>0, drop=False, other=0)\n",
    "    bitmap_binary = bitmap_binary.where(bitmap_binary==0, drop=False, other=1)\n",
    "                   \n",
    "    # Define tructuring element\n",
    "    diameter = radius*2\n",
    "    x = np.arange(-radius, radius+1)\n",
    "    x, y = np.meshgrid(x, x)\n",
    "    r = x**2+y**2 \n",
    "    se = r<radius**2\n",
    "                              \n",
    "    mo_data = xr.DataArray(None, dims=bitmap_binary.dims, coords=bitmap_binary.coords)\n",
    "    pad_data = bitmap_binary.pad(lat=(diameter, diameter), lon=(diameter, diameter), mode='constant', constant_values=0)\n",
    "    \n",
    "    for i in range(mo_data.shape[0]): # ! remove explicit loops\n",
    "        S1 = sp.ndimage.binary_closing(pad_data[i,:,:], se, iterations=1) # ! can include mask option\n",
    "        S2 = sp.ndimage.binary_opening(S1, se, iterations=1)\n",
    "\n",
    "        S2 = xr.DataArray(S2[diameter:-diameter, diameter:-diameter],\n",
    "                          dims=['lat','lon'],\n",
    "                          coords={'lat':bitmap_binary.lat,\n",
    "                                  'lon':bitmap_binary.lon})\n",
    "        mo_data[i,:,:] = S2\n",
    "\n",
    "    mo_binary = xr.DataArray(smoothed, dims=bitmap_binary.dims, coords=bitmap_binary.coords)\n",
    "    return mo_binary\n"
   ]
  },
  {
   "cell_type": "code",
   "execution_count": null,
   "metadata": {},
   "outputs": [],
   "source": [
    "#hide\n",
    "def _wrap_labels(labels_2D):\n",
    "    '''wrap labels that cross prime meridian '''\n",
    "\n",
    "    prime = labels_2D.loc[dict(lon=labels_2D.lon[:2])]\n",
    "\n",
    "    prime_ids = np.unique(prime)[~np.isnan(np.unique(prime))].astype('int')\n",
    "    mirrormapBool = xr.DataArray(np.in1d(id_1, prime_ids).reshape(id_1.shape),\n",
    "                                 dims=labels_2D.dims,\n",
    "                                 coords=labels_2D.coords)\n",
    "    earth2 = labels_2D.where(mirrormapBool==True, drop=False, other=np.nan)\n",
    "    earth1 = labels_2D.where(mirrormapBool==False, drop=False, other=np.nan) # Remove label from origonal map\n",
    "    \n",
    "    # Concatenate and convert to binary\n",
    "    res = labels_2D.lon[1].values-labels_2D.lon[0].values # resolution of longitude\n",
    "    two_earths = xr.concat([earth1, earth2], dim='lon')\n",
    "    two_earths['lon'] = np.arange(float(da.lon[0].values),(two_earths.lon[-1].values*2)+res,res)\n",
    "    bitmap_binary_2E = two_earths.where(two_earths>0, drop=False, other=0)\n",
    "    bitmap_binary_2E = bitmap_binary_2E.where(bitmap_binary_2E==0, drop=False, other=1)\n",
    "    bitmap_bool_2E = bitmap_binary_2E>0\n",
    "    \n",
    "    return bitmap_binary_2E, bitmap_bool_2E"
   ]
  },
  {
   "cell_type": "code",
   "execution_count": null,
   "metadata": {},
   "outputs": [],
   "source": [
    "#hide\n",
    "def _id(binary_images):\n",
    "    '''label 2D features from binary images'''\n",
    "    labels = np.zeros_like(binary_images)\n",
    "    for i in range(labels.shape[0]):\n",
    "        L = label_sk(binary_images[i,:,:], connectivity=2, return_num=True)\n",
    "        L = xr.DataArray(L[0], dims=['lat', 'lon'],\n",
    "                         coords={'lat':binary_images.lat, 'lon':binary_images.lon})\n",
    "        L = L.where(L>0, drop=False, other=np.nan)\n",
    "        if i == 0:\n",
    "            labels[i,:,:] = L\n",
    "        if i == 1:\n",
    "            maxl = np.nanmax(labels[i-1,:,:])\n",
    "            if np.isnan(maxl):\n",
    "                labels[i,:,:] = L+0\n",
    "            else:\n",
    "                labels[i,:,:] = L+maxl\n",
    "        else:\n",
    "            maxl = np.nanmax(labels[:i-1,:,:])\n",
    "            if np.isnan(maxl):\n",
    "                labels[i,:,:] = L+0\n",
    "            else:\n",
    "                labels[i,:,:] = L+maxl\n",
    "            \n",
    "    id_2D = xr.DataArray(labels, dims=binary_images.dims, coords=binary_images.coords)\n",
    "    id_2D = id_2D.where(id_2D!=0, drop=False, other=np.nan)\n",
    "    \n",
    "    return id_2D"
   ]
  },
  {
   "cell_type": "code",
   "execution_count": null,
   "metadata": {},
   "outputs": [],
   "source": [
    "#hide\n",
    "def _id_area(labels_2D, min_size_quartile):\n",
    "    '''calculatre area with regionprops'''\n",
    "    \n",
    "    props = regionprops(labels_2D.astype('int').values)\n",
    "\n",
    "    labelprops = [p.label for p in props]\n",
    "    labelprops = xr.DataArray(labelprops, dims=['label'], coords={'label': labelprops}) \n",
    "    coords = [p.coords for p in props] # time, lat, lon\n",
    "\n",
    "    area = []\n",
    "    res = labels_2D.lat[1].values-labels_2D.lat[0].values # resolution of latitude\n",
    "    for i in range(len(coords)):  \n",
    "        area.append(np.sum((res*111)*np.cos(np.radians(labels_2D.lat[coords[i][:,1]].values)) * (res*111)))\n",
    "        area = xr.DataArray(area, dims=['label'], coords={'label': labelprops})  \n",
    "    min_area = np.percentile(area, min_size_quartile*100)\n",
    "    print('min area (km2) \\t', min_area)  \n",
    "    \n",
    "    return area, min_area, labelprops"
   ]
  },
  {
   "cell_type": "code",
   "execution_count": null,
   "metadata": {},
   "outputs": [],
   "source": [
    "#export\n",
    "def label(da, fieldname):\n",
    "    '''2D image labeling'''\n",
    "    \n",
    "    # pick a data variable\n",
    "    data = _check_input(da, fieldname)\n",
    "    \n",
    "    # Converts data to binary, defines structuring element, and performs morphological closing then opening\n",
    "    mo_binary = _morphological_operations(data, include_poles=False, radius=8) \n",
    "    \n",
    "    # label 2D features from binary images\n",
    "    id_2D = _id(binary_images)\n",
    "\n",
    "    # wrap labels that cross prime meridian\n",
    "    bitmap_binary_2E, bitmap_bool_2E = _wrap_labels(id_2D)\n",
    "    \n",
    "    ### ! Reapply land maks HERE\n",
    "    \n",
    "    # relabel 2D features from binary images that are wrapped around meridian\n",
    "    id_2D_wrap = _id(bitmap_binary_2E)\n",
    "    \n",
    "    # Convert labels to DataArray\n",
    "    id_2D_wrap = xr.DataArray(id_2D_wrap, \n",
    "                              dims=bitmap_bool_2E.dims, \n",
    "                              coords=bitmap_bool_2E.coords)\n",
    "    id_2D_wrap = id_2D_wrap.where(id_2D_wrap!= 0, drop=False, other=np.nan)\n",
    "\n",
    "    # calculatre area with regionprops\n",
    "    area, min_area, labelprops = _id_area(id_2D_wrap, .75)\n",
    "    \n",
    "    keep_labels = labelprops.where(area>=min_area, drop=True)\n",
    "\n",
    "    id_2D_area_bool = xr.DataArray(np.in1d(id_2D_wrap, keeplabels).reshape(id_2D_wrap.shape),\n",
    "                            dims=id_2D_wrap.dims, coords=id_2D_wrap.coords)\n",
    "    \n",
    "    # Calculate Percent of total MHW area retained\n",
    "    tot_area = int(np.sum(area.values))\n",
    "    small_area = area.where(area<=min_area, drop=True)\n",
    "    small_area = int(np.sum(small_area.values))\n",
    "    percent_area_kept = 1-(small_area/tot_area)\n",
    "\n",
    "    \n",
    "#     num_2D_features = np.nanmax(keep_labels.values)  \n",
    "#     print('Number of 2D labeled features = \\t', num_2D_features)\n",
    "\n",
    "    ds_out = id_2D_area_bool.to_dataset(name='labels')\n",
    "    ds_out.attrs['min_area'] = min_area\n",
    "    ds_out.attrs['percent_area_kept'] = percent_area_kept\n",
    "    \n",
    "    return ds_out"
   ]
  },
  {
   "cell_type": "markdown",
   "metadata": {},
   "source": [
    "`label` lets us identify marine heatwaves as 2-dimensional objects using morphological image processing. Let's run through an example using the NOAA Optimum Interpolation Sea Surface Temperature (OISST) dataset. We are using data that had been preprocessed as to keep only those anomalies that exceed the 90th percentile with respect to the 1981-2020 monthly climatology. "
   ]
  },
  {
   "cell_type": "markdown",
   "metadata": {},
   "source": [
    "Let's test `_check_input` to make sure that our data is either an `xr.DataArray` or `xr.Dataset`"
   ]
  },
  {
   "cell_type": "code",
   "execution_count": null,
   "metadata": {},
   "outputs": [],
   "source": [
    "# import xarray as xr\n",
    "# import numpy as np\n",
    "\n",
    "# data_array = xr.DataArray(np.random.rand(5,3,3), dims=['time','lat','lon'], name='test',\n",
    "#                           coords={'time': np.random.rand(5),\n",
    "#                                   'lat': np.random.rand(3),\n",
    "#                                   'lon': np.random.rand(3)})\n",
    "\n",
    "# data_out = _check_input(data_array,'test')\n",
    "# assert type(data_out)==xr.core.dataarray.DataArray or type(data_out)==xr.core.dataarray.Dataset\n"
   ]
  },
  {
   "cell_type": "code",
   "execution_count": null,
   "metadata": {},
   "outputs": [],
   "source": [
    "#export\n",
    "def track(da, fieldname):\n",
    "    '''Track labeled marine heatwaves'''\n",
    "    \n",
    "    # pick a data variable\n",
    "    data = _check_input(da, fieldname)\n",
    "\n",
    "    ####### Label with Skimage\n",
    "    # relabel\n",
    "    label_sk3, final_features = label_sk(data, connectivity=3, return_num=True)\n",
    "\n",
    "    # Convert labels to DataArray\n",
    "    mhw_id_3 = xr.DataArray(label_sk3, dims=['time','lat','lon'],\n",
    "                                 coords={'time': data.time, 'lat': data.lat,'lon': data.lon})\n",
    "    mhw_id_3 = mhw_id_3.where(mhw_id_3 != 0, drop=False, other=np.nan)\n",
    "\n",
    "    print('final features \\t', final_features)\n",
    "\n",
    "    dataout = mhw_id_3.to_dataset(name='labels')\n",
    "    dataout.attrs['total MHWs'] = final_features\n",
    "    dataout.attrs['minimum size (km2)'] = data.attrs['min_area']\n",
    "#     dataout.attrs['minimum size percentile'] = min_size_quartile\n",
    "    dataout.attrs['fraction of total MHW area kept'] = data.attrs['percent_area_kept']\n",
    "#     dataout.attrs['temperature threshold percentile'] = threshold\n",
    "#     dataout.attrs['morphological radius'] = radius\n",
    "#     dataout.attrs['connectivity'] = connectivity\n",
    "#     dataout.attrs['resolution'] = res\n",
    "\n",
    "#     out_path = '/glade/scratch/scanh/MHW_labels/'\n",
    "#     dataout.to_netcdf(out_path + 'MHWlabels_monthly_OISST_' + outnetCDF, mode='w')\n",
    "\n",
    "    return dataout\n"
   ]
  },
  {
   "cell_type": "code",
   "execution_count": null,
   "metadata": {},
   "outputs": [
    {
     "name": "stdout",
     "output_type": "stream",
     "text": [
      "Converted 00_core.ipynb.\n",
      "Converted index.ipynb.\n"
     ]
    }
   ],
   "source": [
    "#hide\n",
    "from nbdev.export import notebook2script\n",
    "notebook2script()\n",
    "# this is the same as running nbdev_build_lib"
   ]
  },
  {
   "cell_type": "code",
   "execution_count": null,
   "metadata": {},
   "outputs": [],
   "source": []
  }
 ],
 "metadata": {
  "kernelspec": {
   "display_name": "Python [conda env:miniconda3-ocetrac-2020]",
   "language": "python",
   "name": "conda-env-miniconda3-ocetrac-2020-py"
  }
 },
 "nbformat": 4,
 "nbformat_minor": 4
}
