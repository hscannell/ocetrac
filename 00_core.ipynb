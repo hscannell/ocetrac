{
 "cells": [
  {
   "cell_type": "code",
   "execution_count": null,
   "metadata": {},
   "outputs": [],
   "source": [
    "# default_exp core"
   ]
  },
  {
   "cell_type": "markdown",
   "metadata": {},
   "source": [
    "# Ocetrac\n",
    "\n",
    "> Track and label marine heatwaves from geospatial data. "
   ]
  },
  {
   "cell_type": "code",
   "execution_count": null,
   "metadata": {},
   "outputs": [],
   "source": [
    "#hide\n",
    "from nbdev.showdoc import *"
   ]
  },
  {
   "cell_type": "markdown",
   "metadata": {},
   "source": [
    "## Functions"
   ]
  },
  {
   "cell_type": "code",
   "execution_count": null,
   "metadata": {},
   "outputs": [],
   "source": []
  },
  {
   "cell_type": "code",
   "execution_count": null,
   "metadata": {},
   "outputs": [],
   "source": [
    "#hide\n",
    "def _morphological_operations(data, include_poles=False, radius=8): \n",
    "    '''Converts data to binary, defines structuring element, and performs morphological closing then opening'''\n",
    "    if include_poles==False:\n",
    "        bitmap = data.where((data.lat<65) & (data.lat>-70), drop=False, other=np.nan) # Turn data poleward of 65ºN and 70ºS to NaNs\n",
    "    \n",
    "    # Convert to binary\n",
    "    bitmap_binary = bitmap.where(bitmap>0, drop=False, other=0)\n",
    "    bitmap_binary = bitmap_binary.where(bitmap_binary==0, drop=False, other=1)\n",
    "                   \n",
    "    # Define tructuring element\n",
    "    diameter = radius*2\n",
    "    x = np.arange(-radius, radius+1)\n",
    "    x, y = np.meshgrid(x, x)\n",
    "    r = x**2+y**2 \n",
    "    se = r<radius**2\n",
    "                              \n",
    "    mo_data = xr.DataArray(None, dims=bitmap_binary.dims, coords=bitmap_binary.coords)\n",
    "    pad_data = bitmap_binary.pad(lat=(diameter, diameter), lon=(diameter, diameter), mode='constant', constant_values=0)\n",
    "    \n",
    "    for i in range(mo_data.shape[0]): # ! remove explicit loops\n",
    "        S1 = scipy.ndimage.binary_closing(pad_data[i,:,:], se, iterations=1) # ! can include mask option\n",
    "        S2 = scipy.ndimage.binary_opening(S1, se, iterations=1)\n",
    "        S2 = xr.DataArray(S2[diameter:-diameter, diameter:-diameter],\n",
    "                          dims=['lat','lon'],\n",
    "                          coords={'lat':bitmap_binary.lat,\n",
    "                                  'lon':bitmap_binary.lon})\n",
    "        mo_data[i,:,:] = S2\n",
    "\n",
    "    mo_binary = xr.DataArray(mo_data, dims=bitmap_binary.dims, coords=bitmap_binary.coords)\n",
    "    return mo_binary\n"
   ]
  },
  {
   "cell_type": "code",
   "execution_count": null,
   "metadata": {},
   "outputs": [
    {
     "name": "stdout",
     "output_type": "stream",
     "text": [
      "CPU times: user 2 µs, sys: 0 ns, total: 2 µs\n",
      "Wall time: 4.29 µs\n"
     ]
    }
   ],
   "source": [
    "%time \n",
    "#hide\n",
    "import xarray as xr\n",
    "import numpy as np\n",
    "import scipy.ndimage\n",
    "\n",
    "data = xr.DataArray(np.random.uniform(low=-3, high=2, size=(7,180,360)), dims=['time','lat','lon'], name='test',\n",
    "                    coords={'time': np.arange(np.datetime64('2017-01-01'), np.datetime64('2017-01-08')),\n",
    "                            'lat': np.linspace(-90, 90, num=180),\n",
    "                            'lon': np.linspace(0, 360, num=360)})\n",
    "\n",
    "mo_binary = _morphological_operations(data, include_poles=False, radius=5)"
   ]
  },
  {
   "cell_type": "code",
   "execution_count": null,
   "metadata": {},
   "outputs": [
    {
     "data": {
      "text/html": [
       "<div><svg style=\"position: absolute; width: 0; height: 0; overflow: hidden\">\n",
       "<defs>\n",
       "<symbol id=\"icon-database\" viewBox=\"0 0 32 32\">\n",
       "<path d=\"M16 0c-8.837 0-16 2.239-16 5v4c0 2.761 7.163 5 16 5s16-2.239 16-5v-4c0-2.761-7.163-5-16-5z\"></path>\n",
       "<path d=\"M16 17c-8.837 0-16-2.239-16-5v6c0 2.761 7.163 5 16 5s16-2.239 16-5v-6c0 2.761-7.163 5-16 5z\"></path>\n",
       "<path d=\"M16 26c-8.837 0-16-2.239-16-5v6c0 2.761 7.163 5 16 5s16-2.239 16-5v-6c0 2.761-7.163 5-16 5z\"></path>\n",
       "</symbol>\n",
       "<symbol id=\"icon-file-text2\" viewBox=\"0 0 32 32\">\n",
       "<path d=\"M28.681 7.159c-0.694-0.947-1.662-2.053-2.724-3.116s-2.169-2.030-3.116-2.724c-1.612-1.182-2.393-1.319-2.841-1.319h-15.5c-1.378 0-2.5 1.121-2.5 2.5v27c0 1.378 1.122 2.5 2.5 2.5h23c1.378 0 2.5-1.122 2.5-2.5v-19.5c0-0.448-0.137-1.23-1.319-2.841zM24.543 5.457c0.959 0.959 1.712 1.825 2.268 2.543h-4.811v-4.811c0.718 0.556 1.584 1.309 2.543 2.268zM28 29.5c0 0.271-0.229 0.5-0.5 0.5h-23c-0.271 0-0.5-0.229-0.5-0.5v-27c0-0.271 0.229-0.5 0.5-0.5 0 0 15.499-0 15.5 0v7c0 0.552 0.448 1 1 1h7v19.5z\"></path>\n",
       "<path d=\"M23 26h-14c-0.552 0-1-0.448-1-1s0.448-1 1-1h14c0.552 0 1 0.448 1 1s-0.448 1-1 1z\"></path>\n",
       "<path d=\"M23 22h-14c-0.552 0-1-0.448-1-1s0.448-1 1-1h14c0.552 0 1 0.448 1 1s-0.448 1-1 1z\"></path>\n",
       "<path d=\"M23 18h-14c-0.552 0-1-0.448-1-1s0.448-1 1-1h14c0.552 0 1 0.448 1 1s-0.448 1-1 1z\"></path>\n",
       "</symbol>\n",
       "</defs>\n",
       "</svg>\n",
       "<style>/* CSS stylesheet for displaying xarray objects in jupyterlab.\n",
       " *\n",
       " */\n",
       "\n",
       ":root {\n",
       "  --xr-font-color0: var(--jp-content-font-color0, rgba(0, 0, 0, 1));\n",
       "  --xr-font-color2: var(--jp-content-font-color2, rgba(0, 0, 0, 0.54));\n",
       "  --xr-font-color3: var(--jp-content-font-color3, rgba(0, 0, 0, 0.38));\n",
       "  --xr-border-color: var(--jp-border-color2, #e0e0e0);\n",
       "  --xr-disabled-color: var(--jp-layout-color3, #bdbdbd);\n",
       "  --xr-background-color: var(--jp-layout-color0, white);\n",
       "  --xr-background-color-row-even: var(--jp-layout-color1, white);\n",
       "  --xr-background-color-row-odd: var(--jp-layout-color2, #eeeeee);\n",
       "}\n",
       "\n",
       "html[theme=dark],\n",
       "body.vscode-dark {\n",
       "  --xr-font-color0: rgba(255, 255, 255, 1);\n",
       "  --xr-font-color2: rgba(255, 255, 255, 0.54);\n",
       "  --xr-font-color3: rgba(255, 255, 255, 0.38);\n",
       "  --xr-border-color: #1F1F1F;\n",
       "  --xr-disabled-color: #515151;\n",
       "  --xr-background-color: #111111;\n",
       "  --xr-background-color-row-even: #111111;\n",
       "  --xr-background-color-row-odd: #313131;\n",
       "}\n",
       "\n",
       ".xr-wrap {\n",
       "  display: block;\n",
       "  min-width: 300px;\n",
       "  max-width: 700px;\n",
       "}\n",
       "\n",
       ".xr-text-repr-fallback {\n",
       "  /* fallback to plain text repr when CSS is not injected (untrusted notebook) */\n",
       "  display: none;\n",
       "}\n",
       "\n",
       ".xr-header {\n",
       "  padding-top: 6px;\n",
       "  padding-bottom: 6px;\n",
       "  margin-bottom: 4px;\n",
       "  border-bottom: solid 1px var(--xr-border-color);\n",
       "}\n",
       "\n",
       ".xr-header > div,\n",
       ".xr-header > ul {\n",
       "  display: inline;\n",
       "  margin-top: 0;\n",
       "  margin-bottom: 0;\n",
       "}\n",
       "\n",
       ".xr-obj-type,\n",
       ".xr-array-name {\n",
       "  margin-left: 2px;\n",
       "  margin-right: 10px;\n",
       "}\n",
       "\n",
       ".xr-obj-type {\n",
       "  color: var(--xr-font-color2);\n",
       "}\n",
       "\n",
       ".xr-sections {\n",
       "  padding-left: 0 !important;\n",
       "  display: grid;\n",
       "  grid-template-columns: 150px auto auto 1fr 20px 20px;\n",
       "}\n",
       "\n",
       ".xr-section-item {\n",
       "  display: contents;\n",
       "}\n",
       "\n",
       ".xr-section-item input {\n",
       "  display: none;\n",
       "}\n",
       "\n",
       ".xr-section-item input + label {\n",
       "  color: var(--xr-disabled-color);\n",
       "}\n",
       "\n",
       ".xr-section-item input:enabled + label {\n",
       "  cursor: pointer;\n",
       "  color: var(--xr-font-color2);\n",
       "}\n",
       "\n",
       ".xr-section-item input:enabled + label:hover {\n",
       "  color: var(--xr-font-color0);\n",
       "}\n",
       "\n",
       ".xr-section-summary {\n",
       "  grid-column: 1;\n",
       "  color: var(--xr-font-color2);\n",
       "  font-weight: 500;\n",
       "}\n",
       "\n",
       ".xr-section-summary > span {\n",
       "  display: inline-block;\n",
       "  padding-left: 0.5em;\n",
       "}\n",
       "\n",
       ".xr-section-summary-in:disabled + label {\n",
       "  color: var(--xr-font-color2);\n",
       "}\n",
       "\n",
       ".xr-section-summary-in + label:before {\n",
       "  display: inline-block;\n",
       "  content: '►';\n",
       "  font-size: 11px;\n",
       "  width: 15px;\n",
       "  text-align: center;\n",
       "}\n",
       "\n",
       ".xr-section-summary-in:disabled + label:before {\n",
       "  color: var(--xr-disabled-color);\n",
       "}\n",
       "\n",
       ".xr-section-summary-in:checked + label:before {\n",
       "  content: '▼';\n",
       "}\n",
       "\n",
       ".xr-section-summary-in:checked + label > span {\n",
       "  display: none;\n",
       "}\n",
       "\n",
       ".xr-section-summary,\n",
       ".xr-section-inline-details {\n",
       "  padding-top: 4px;\n",
       "  padding-bottom: 4px;\n",
       "}\n",
       "\n",
       ".xr-section-inline-details {\n",
       "  grid-column: 2 / -1;\n",
       "}\n",
       "\n",
       ".xr-section-details {\n",
       "  display: none;\n",
       "  grid-column: 1 / -1;\n",
       "  margin-bottom: 5px;\n",
       "}\n",
       "\n",
       ".xr-section-summary-in:checked ~ .xr-section-details {\n",
       "  display: contents;\n",
       "}\n",
       "\n",
       ".xr-array-wrap {\n",
       "  grid-column: 1 / -1;\n",
       "  display: grid;\n",
       "  grid-template-columns: 20px auto;\n",
       "}\n",
       "\n",
       ".xr-array-wrap > label {\n",
       "  grid-column: 1;\n",
       "  vertical-align: top;\n",
       "}\n",
       "\n",
       ".xr-preview {\n",
       "  color: var(--xr-font-color3);\n",
       "}\n",
       "\n",
       ".xr-array-preview,\n",
       ".xr-array-data {\n",
       "  padding: 0 5px !important;\n",
       "  grid-column: 2;\n",
       "}\n",
       "\n",
       ".xr-array-data,\n",
       ".xr-array-in:checked ~ .xr-array-preview {\n",
       "  display: none;\n",
       "}\n",
       "\n",
       ".xr-array-in:checked ~ .xr-array-data,\n",
       ".xr-array-preview {\n",
       "  display: inline-block;\n",
       "}\n",
       "\n",
       ".xr-dim-list {\n",
       "  display: inline-block !important;\n",
       "  list-style: none;\n",
       "  padding: 0 !important;\n",
       "  margin: 0;\n",
       "}\n",
       "\n",
       ".xr-dim-list li {\n",
       "  display: inline-block;\n",
       "  padding: 0;\n",
       "  margin: 0;\n",
       "}\n",
       "\n",
       ".xr-dim-list:before {\n",
       "  content: '(';\n",
       "}\n",
       "\n",
       ".xr-dim-list:after {\n",
       "  content: ')';\n",
       "}\n",
       "\n",
       ".xr-dim-list li:not(:last-child):after {\n",
       "  content: ',';\n",
       "  padding-right: 5px;\n",
       "}\n",
       "\n",
       ".xr-has-index {\n",
       "  font-weight: bold;\n",
       "}\n",
       "\n",
       ".xr-var-list,\n",
       ".xr-var-item {\n",
       "  display: contents;\n",
       "}\n",
       "\n",
       ".xr-var-item > div,\n",
       ".xr-var-item label,\n",
       ".xr-var-item > .xr-var-name span {\n",
       "  background-color: var(--xr-background-color-row-even);\n",
       "  margin-bottom: 0;\n",
       "}\n",
       "\n",
       ".xr-var-item > .xr-var-name:hover span {\n",
       "  padding-right: 5px;\n",
       "}\n",
       "\n",
       ".xr-var-list > li:nth-child(odd) > div,\n",
       ".xr-var-list > li:nth-child(odd) > label,\n",
       ".xr-var-list > li:nth-child(odd) > .xr-var-name span {\n",
       "  background-color: var(--xr-background-color-row-odd);\n",
       "}\n",
       "\n",
       ".xr-var-name {\n",
       "  grid-column: 1;\n",
       "}\n",
       "\n",
       ".xr-var-dims {\n",
       "  grid-column: 2;\n",
       "}\n",
       "\n",
       ".xr-var-dtype {\n",
       "  grid-column: 3;\n",
       "  text-align: right;\n",
       "  color: var(--xr-font-color2);\n",
       "}\n",
       "\n",
       ".xr-var-preview {\n",
       "  grid-column: 4;\n",
       "}\n",
       "\n",
       ".xr-var-name,\n",
       ".xr-var-dims,\n",
       ".xr-var-dtype,\n",
       ".xr-preview,\n",
       ".xr-attrs dt {\n",
       "  white-space: nowrap;\n",
       "  overflow: hidden;\n",
       "  text-overflow: ellipsis;\n",
       "  padding-right: 10px;\n",
       "}\n",
       "\n",
       ".xr-var-name:hover,\n",
       ".xr-var-dims:hover,\n",
       ".xr-var-dtype:hover,\n",
       ".xr-attrs dt:hover {\n",
       "  overflow: visible;\n",
       "  width: auto;\n",
       "  z-index: 1;\n",
       "}\n",
       "\n",
       ".xr-var-attrs,\n",
       ".xr-var-data {\n",
       "  display: none;\n",
       "  background-color: var(--xr-background-color) !important;\n",
       "  padding-bottom: 5px !important;\n",
       "}\n",
       "\n",
       ".xr-var-attrs-in:checked ~ .xr-var-attrs,\n",
       ".xr-var-data-in:checked ~ .xr-var-data {\n",
       "  display: block;\n",
       "}\n",
       "\n",
       ".xr-var-data > table {\n",
       "  float: right;\n",
       "}\n",
       "\n",
       ".xr-var-name span,\n",
       ".xr-var-data,\n",
       ".xr-attrs {\n",
       "  padding-left: 25px !important;\n",
       "}\n",
       "\n",
       ".xr-attrs,\n",
       ".xr-var-attrs,\n",
       ".xr-var-data {\n",
       "  grid-column: 1 / -1;\n",
       "}\n",
       "\n",
       "dl.xr-attrs {\n",
       "  padding: 0;\n",
       "  margin: 0;\n",
       "  display: grid;\n",
       "  grid-template-columns: 125px auto;\n",
       "}\n",
       "\n",
       ".xr-attrs dt, dd {\n",
       "  padding: 0;\n",
       "  margin: 0;\n",
       "  float: left;\n",
       "  padding-right: 10px;\n",
       "  width: auto;\n",
       "}\n",
       "\n",
       ".xr-attrs dt {\n",
       "  font-weight: normal;\n",
       "  grid-column: 1;\n",
       "}\n",
       "\n",
       ".xr-attrs dt:hover span {\n",
       "  display: inline-block;\n",
       "  background: var(--xr-background-color);\n",
       "  padding-right: 10px;\n",
       "}\n",
       "\n",
       ".xr-attrs dd {\n",
       "  grid-column: 2;\n",
       "  white-space: pre-wrap;\n",
       "  word-break: break-all;\n",
       "}\n",
       "\n",
       ".xr-icon-database,\n",
       ".xr-icon-file-text2 {\n",
       "  display: inline-block;\n",
       "  vertical-align: middle;\n",
       "  width: 1em;\n",
       "  height: 1.5em !important;\n",
       "  stroke-width: 0;\n",
       "  stroke: currentColor;\n",
       "  fill: currentColor;\n",
       "}\n",
       "</style><pre class='xr-text-repr-fallback'>&lt;xarray.DataArray (lat: 180, lon: 360)&gt;\n",
       "array([[2.09068987e-44, 5.11662014e-44, 1.24596334e-43, ...,\n",
       "        1.24596334e-43, 5.11662014e-44, 2.09068987e-44],\n",
       "       [3.26250104e-44, 7.98443556e-44, 1.94431358e-43, ...,\n",
       "        1.94431358e-43, 7.98443556e-44, 3.26250104e-44],\n",
       "       [5.06570892e-44, 1.23974907e-43, 3.01894973e-43, ...,\n",
       "        3.01894973e-43, 1.23974907e-43, 5.06570892e-44],\n",
       "       ...,\n",
       "       [5.06570892e-44, 1.23974907e-43, 3.01894973e-43, ...,\n",
       "        3.01894973e-43, 1.23974907e-43, 5.06570892e-44],\n",
       "       [3.26250104e-44, 7.98443556e-44, 1.94431358e-43, ...,\n",
       "        1.94431358e-43, 7.98443556e-44, 3.26250104e-44],\n",
       "       [2.09068987e-44, 5.11662014e-44, 1.24596334e-43, ...,\n",
       "        1.24596334e-43, 5.11662014e-44, 2.09068987e-44]])\n",
       "Coordinates:\n",
       "  * lat      (lat) float64 -89.5 -88.5 -87.5 -86.5 -85.5 ... 86.5 87.5 88.5 89.5\n",
       "  * lon      (lon) float64 0.5 1.5 2.5 3.5 4.5 ... 355.5 356.5 357.5 358.5 359.5</pre><div class='xr-wrap' hidden><div class='xr-header'><div class='xr-obj-type'>xarray.DataArray</div><div class='xr-array-name'></div><ul class='xr-dim-list'><li><span class='xr-has-index'>lat</span>: 180</li><li><span class='xr-has-index'>lon</span>: 360</li></ul></div><ul class='xr-sections'><li class='xr-section-item'><div class='xr-array-wrap'><input id='section-ae592151-3c58-4e3f-9f7f-2ec3c30eb9fa' class='xr-array-in' type='checkbox' checked><label for='section-ae592151-3c58-4e3f-9f7f-2ec3c30eb9fa' title='Show/hide data repr'><svg class='icon xr-icon-database'><use xlink:href='#icon-database'></use></svg></label><div class='xr-array-preview xr-preview'><span>2.091e-44 5.117e-44 1.246e-43 ... 1.246e-43 5.117e-44 2.091e-44</span></div><div class='xr-array-data'><pre>array([[2.09068987e-44, 5.11662014e-44, 1.24596334e-43, ...,\n",
       "        1.24596334e-43, 5.11662014e-44, 2.09068987e-44],\n",
       "       [3.26250104e-44, 7.98443556e-44, 1.94431358e-43, ...,\n",
       "        1.94431358e-43, 7.98443556e-44, 3.26250104e-44],\n",
       "       [5.06570892e-44, 1.23974907e-43, 3.01894973e-43, ...,\n",
       "        3.01894973e-43, 1.23974907e-43, 5.06570892e-44],\n",
       "       ...,\n",
       "       [5.06570892e-44, 1.23974907e-43, 3.01894973e-43, ...,\n",
       "        3.01894973e-43, 1.23974907e-43, 5.06570892e-44],\n",
       "       [3.26250104e-44, 7.98443556e-44, 1.94431358e-43, ...,\n",
       "        1.94431358e-43, 7.98443556e-44, 3.26250104e-44],\n",
       "       [2.09068987e-44, 5.11662014e-44, 1.24596334e-43, ...,\n",
       "        1.24596334e-43, 5.11662014e-44, 2.09068987e-44]])</pre></div></div></li><li class='xr-section-item'><input id='section-b8497026-21e8-4507-9334-e0953fceb4d0' class='xr-section-summary-in' type='checkbox'  checked><label for='section-b8497026-21e8-4507-9334-e0953fceb4d0' class='xr-section-summary' >Coordinates: <span>(2)</span></label><div class='xr-section-inline-details'></div><div class='xr-section-details'><ul class='xr-var-list'><li class='xr-var-item'><div class='xr-var-name'><span class='xr-has-index'>lat</span></div><div class='xr-var-dims'>(lat)</div><div class='xr-var-dtype'>float64</div><div class='xr-var-preview xr-preview'>-89.5 -88.5 -87.5 ... 88.5 89.5</div><input id='attrs-23eb7944-0c08-417f-9b60-fef6cf387529' class='xr-var-attrs-in' type='checkbox' disabled><label for='attrs-23eb7944-0c08-417f-9b60-fef6cf387529' title='Show/Hide attributes'><svg class='icon xr-icon-file-text2'><use xlink:href='#icon-file-text2'></use></svg></label><input id='data-8fffc071-3373-46d2-8e44-24297cc1e995' class='xr-var-data-in' type='checkbox'><label for='data-8fffc071-3373-46d2-8e44-24297cc1e995' title='Show/Hide data repr'><svg class='icon xr-icon-database'><use xlink:href='#icon-database'></use></svg></label><div class='xr-var-attrs'><dl class='xr-attrs'></dl></div><div class='xr-var-data'><pre>array([-89.5, -88.5, -87.5, -86.5, -85.5, -84.5, -83.5, -82.5, -81.5, -80.5,\n",
       "       -79.5, -78.5, -77.5, -76.5, -75.5, -74.5, -73.5, -72.5, -71.5, -70.5,\n",
       "       -69.5, -68.5, -67.5, -66.5, -65.5, -64.5, -63.5, -62.5, -61.5, -60.5,\n",
       "       -59.5, -58.5, -57.5, -56.5, -55.5, -54.5, -53.5, -52.5, -51.5, -50.5,\n",
       "       -49.5, -48.5, -47.5, -46.5, -45.5, -44.5, -43.5, -42.5, -41.5, -40.5,\n",
       "       -39.5, -38.5, -37.5, -36.5, -35.5, -34.5, -33.5, -32.5, -31.5, -30.5,\n",
       "       -29.5, -28.5, -27.5, -26.5, -25.5, -24.5, -23.5, -22.5, -21.5, -20.5,\n",
       "       -19.5, -18.5, -17.5, -16.5, -15.5, -14.5, -13.5, -12.5, -11.5, -10.5,\n",
       "        -9.5,  -8.5,  -7.5,  -6.5,  -5.5,  -4.5,  -3.5,  -2.5,  -1.5,  -0.5,\n",
       "         0.5,   1.5,   2.5,   3.5,   4.5,   5.5,   6.5,   7.5,   8.5,   9.5,\n",
       "        10.5,  11.5,  12.5,  13.5,  14.5,  15.5,  16.5,  17.5,  18.5,  19.5,\n",
       "        20.5,  21.5,  22.5,  23.5,  24.5,  25.5,  26.5,  27.5,  28.5,  29.5,\n",
       "        30.5,  31.5,  32.5,  33.5,  34.5,  35.5,  36.5,  37.5,  38.5,  39.5,\n",
       "        40.5,  41.5,  42.5,  43.5,  44.5,  45.5,  46.5,  47.5,  48.5,  49.5,\n",
       "        50.5,  51.5,  52.5,  53.5,  54.5,  55.5,  56.5,  57.5,  58.5,  59.5,\n",
       "        60.5,  61.5,  62.5,  63.5,  64.5,  65.5,  66.5,  67.5,  68.5,  69.5,\n",
       "        70.5,  71.5,  72.5,  73.5,  74.5,  75.5,  76.5,  77.5,  78.5,  79.5,\n",
       "        80.5,  81.5,  82.5,  83.5,  84.5,  85.5,  86.5,  87.5,  88.5,  89.5])</pre></div></li><li class='xr-var-item'><div class='xr-var-name'><span class='xr-has-index'>lon</span></div><div class='xr-var-dims'>(lon)</div><div class='xr-var-dtype'>float64</div><div class='xr-var-preview xr-preview'>0.5 1.5 2.5 ... 357.5 358.5 359.5</div><input id='attrs-6bcb9873-8f8e-469d-aef9-1df866421e9b' class='xr-var-attrs-in' type='checkbox' disabled><label for='attrs-6bcb9873-8f8e-469d-aef9-1df866421e9b' title='Show/Hide attributes'><svg class='icon xr-icon-file-text2'><use xlink:href='#icon-file-text2'></use></svg></label><input id='data-8980cdbd-7b2f-460c-9ec0-db9cf9c16f03' class='xr-var-data-in' type='checkbox'><label for='data-8980cdbd-7b2f-460c-9ec0-db9cf9c16f03' title='Show/Hide data repr'><svg class='icon xr-icon-database'><use xlink:href='#icon-database'></use></svg></label><div class='xr-var-attrs'><dl class='xr-attrs'></dl></div><div class='xr-var-data'><pre>array([  0.5,   1.5,   2.5, ..., 357.5, 358.5, 359.5])</pre></div></li></ul></div></li><li class='xr-section-item'><input id='section-a279cd59-2e3e-434c-9e33-5570e430c2cd' class='xr-section-summary-in' type='checkbox' disabled ><label for='section-a279cd59-2e3e-434c-9e33-5570e430c2cd' class='xr-section-summary'  title='Expand/collapse section'>Attributes: <span>(0)</span></label><div class='xr-section-inline-details'></div><div class='xr-section-details'><dl class='xr-attrs'></dl></div></li></ul></div></div>"
      ],
      "text/plain": [
       "<xarray.DataArray (lat: 180, lon: 360)>\n",
       "array([[2.09068987e-44, 5.11662014e-44, 1.24596334e-43, ...,\n",
       "        1.24596334e-43, 5.11662014e-44, 2.09068987e-44],\n",
       "       [3.26250104e-44, 7.98443556e-44, 1.94431358e-43, ...,\n",
       "        1.94431358e-43, 7.98443556e-44, 3.26250104e-44],\n",
       "       [5.06570892e-44, 1.23974907e-43, 3.01894973e-43, ...,\n",
       "        3.01894973e-43, 1.23974907e-43, 5.06570892e-44],\n",
       "       ...,\n",
       "       [5.06570892e-44, 1.23974907e-43, 3.01894973e-43, ...,\n",
       "        3.01894973e-43, 1.23974907e-43, 5.06570892e-44],\n",
       "       [3.26250104e-44, 7.98443556e-44, 1.94431358e-43, ...,\n",
       "        1.94431358e-43, 7.98443556e-44, 3.26250104e-44],\n",
       "       [2.09068987e-44, 5.11662014e-44, 1.24596334e-43, ...,\n",
       "        1.24596334e-43, 5.11662014e-44, 2.09068987e-44]])\n",
       "Coordinates:\n",
       "  * lat      (lat) float64 -89.5 -88.5 -87.5 -86.5 -85.5 ... 86.5 87.5 88.5 89.5\n",
       "  * lon      (lon) float64 0.5 1.5 2.5 3.5 4.5 ... 355.5 356.5 357.5 358.5 359.5"
      ]
     },
     "execution_count": null,
     "metadata": {},
     "output_type": "execute_result"
    }
   ],
   "source": [
    "lon = np.arange(0, 360) + 0.5\n",
    "lat = np.arange(-90, 90) + 0.5\n",
    "x, y = np.meshgrid(lon, lat)\n",
    "\n",
    "x0 = 180\n",
    "y0 = 0\n",
    "sigma = 20\n",
    "data = np.exp(-((x - x0)**2 + (y - y0)**2)/sigma**2)\n",
    "da = xr.DataArray(data, dims=['lat', 'lon'],\n",
    "                  coords={'lat': lat, 'lon': lon})\n",
    "da"
   ]
  },
  {
   "cell_type": "code",
   "execution_count": null,
   "metadata": {},
   "outputs": [
    {
     "data": {
      "text/plain": [
       "<matplotlib.collections.QuadMesh at 0x2af78e7445b0>"
      ]
     },
     "execution_count": null,
     "metadata": {},
     "output_type": "execute_result"
    },
    {
     "data": {
      "image/png": "[encoded data removed]",
      "text/plain": [
       "<Figure size 432x288 with 2 Axes>"
      ]
     },
     "metadata": {
      "needs_background": "light"
     },
     "output_type": "display_data"
    }
   ],
   "source": [
    "da.plot()"
   ]
  },
  {
   "cell_type": "code",
   "execution_count": null,
   "metadata": {},
   "outputs": [],
   "source": [
    "from sklearn.datasets import make_blobs\n",
    "\n",
    "centers = [(-5, -5), (5, 5)]\n",
    "cluster_std = [0.8, 1]\n",
    "\n",
    "X, y = make_blobs(n_samples=100, cluster_std=cluster_std, centers=centers, n_features=2, random_state=1)\n"
   ]
  },
  {
   "cell_type": "code",
   "execution_count": null,
   "metadata": {},
   "outputs": [
    {
     "data": {
      "text/plain": [
       "<matplotlib.collections.PathCollection at 0x2aecaa9e4790>"
      ]
     },
     "execution_count": null,
     "metadata": {},
     "output_type": "execute_result"
    },
    {
     "data": {
      "image/png": "[encoded data removed]",
      "text/plain": [
       "<Figure size 432x288 with 1 Axes>"
      ]
     },
     "metadata": {
      "needs_background": "light"
     },
     "output_type": "display_data"
    }
   ],
   "source": [
    "plt.scatter(X[:,0], X[:,1],\n",
    "                                  c=y,\n",
    "                                  vmin=min(y),\n",
    "                                  vmax=max(y))"
   ]
  },
  {
   "cell_type": "code",
   "execution_count": null,
   "metadata": {},
   "outputs": [
    {
     "data": {
      "text/plain": [
       "<matplotlib.colorbar.Colorbar at 0x2aeca7805670>"
      ]
     },
     "execution_count": null,
     "metadata": {},
     "output_type": "execute_result"
    },
    {
     "data": {
      "image/png": "[encoded data removed]",
      "text/plain": [
       "<Figure size 432x288 with 2 Axes>"
      ]
     },
     "metadata": {
      "needs_background": "light"
     },
     "output_type": "display_data"
    }
   ],
   "source": [
    "plt.contourf(data[0,:,:]); plt.colorbar()"
   ]
  },
  {
   "cell_type": "code",
   "execution_count": null,
   "metadata": {},
   "outputs": [
    {
     "data": {
      "text/plain": [
       "<matplotlib.colorbar.Colorbar at 0x2aeca7cb7e50>"
      ]
     },
     "execution_count": null,
     "metadata": {},
     "output_type": "execute_result"
    },
    {
     "data": {
      "image/png": "[encoded data removed]",
      "text/plain": [
       "<Figure size 432x288 with 2 Axes>"
      ]
     },
     "metadata": {
      "needs_background": "light"
     },
     "output_type": "display_data"
    }
   ],
   "source": [
    "plt.contourf(mo_binary[0,:,:]); plt.colorbar()"
   ]
  },
  {
   "cell_type": "code",
   "execution_count": null,
   "metadata": {},
   "outputs": [
    {
     "data": {
      "text/plain": [
       "<matplotlib.colorbar.Colorbar at 0x2aeca6ace250>"
      ]
     },
     "execution_count": null,
     "metadata": {},
     "output_type": "execute_result"
    },
    {
     "data": {
      "image/png": "[encoded data removed]",
      "text/plain": [
       "<Figure size 432x288 with 2 Axes>"
      ]
     },
     "metadata": {
      "needs_background": "light"
     },
     "output_type": "display_data"
    }
   ],
   "source": [
    "plt.pcolormesh(data[0,:,:]); plt.colorbar()"
   ]
  },
  {
   "cell_type": "code",
   "execution_count": null,
   "metadata": {},
   "outputs": [],
   "source": [
    "bitmap_binary = data.where(data>0, drop=False, other=0)\n",
    "bitmap_binary = bitmap_binary.where(bitmap_binary==0, drop=False, other=1)"
   ]
  },
  {
   "cell_type": "code",
   "execution_count": null,
   "metadata": {},
   "outputs": [
    {
     "data": {
      "text/plain": [
       "<matplotlib.colorbar.Colorbar at 0x2aeca6b98610>"
      ]
     },
     "execution_count": null,
     "metadata": {},
     "output_type": "execute_result"
    },
    {
     "data": {
      "image/png": "[encoded data removed]",
      "text/plain": [
       "<Figure size 432x288 with 2 Axes>"
      ]
     },
     "metadata": {
      "needs_background": "light"
     },
     "output_type": "display_data"
    }
   ],
   "source": [
    "plt.pcolormesh(bitmap_binary[0,:,:]); plt.colorbar()"
   ]
  },
  {
   "cell_type": "code",
   "execution_count": null,
   "metadata": {},
   "outputs": [],
   "source": [
    "# Convert to binary\n",
    "bitmap_binary = data.where(data>0, drop=False, other=0)\n",
    "bitmap_binary = bitmap_binary.where(bitmap_binary==0, drop=False, other=1)\n",
    "                   \n",
    "# Define tructuring element\n",
    "radius=1\n",
    "diameter = radius*2\n",
    "x = np.arange(-radius, radius+1)\n",
    "x, y = np.meshgrid(x, x)\n",
    "r = x**2+y**2 \n",
    "se = r<radius**2\n",
    "                              \n",
    "mo_data = xr.DataArray(None, dims=bitmap_binary.dims, coords=bitmap_binary.coords)\n",
    "pad_data = bitmap_binary.pad(lat=(diameter, diameter), lon=(diameter, diameter), mode='constant', constant_values=0)\n",
    "    \n",
    "for i in range(mo_data.shape[0]): # ! remove explicit loops\n",
    "    S1 = scipy.ndimage.binary_closing(pad_data[i,:,:], se, iterations=1) # ! can include mask option\n",
    "    S2 = scipy.ndimage.binary_opening(S1, se, iterations=1)\n",
    "    S2 = xr.DataArray(S2[diameter:-diameter, diameter:-diameter],\n",
    "                          dims=['lat','lon'],\n",
    "                          coords={'lat':bitmap_binary.lat,\n",
    "                                  'lon':bitmap_binary.lon})\n",
    "    mo_data[i,:,:] = S2\n",
    "mo_binary = xr.DataArray(mo_data, dims=bitmap_binary.dims, coords=bitmap_binary.coords)\n"
   ]
  },
  {
   "cell_type": "code",
   "execution_count": null,
   "metadata": {},
   "outputs": [
    {
     "data": {
      "text/plain": [
       "<matplotlib.colorbar.Colorbar at 0x2aeca7561d90>"
      ]
     },
     "execution_count": null,
     "metadata": {},
     "output_type": "execute_result"
    },
    {
     "data": {
      "image/png": "[encoded data removed]",
      "text/plain": [
       "<Figure size 432x288 with 2 Axes>"
      ]
     },
     "metadata": {
      "needs_background": "light"
     },
     "output_type": "display_data"
    }
   ],
   "source": [
    "plt.contourf(mo_binary[0,:,:]); plt.colorbar()"
   ]
  },
  {
   "cell_type": "code",
   "execution_count": null,
   "metadata": {},
   "outputs": [],
   "source": [
    "#hide\n",
    "def _wrap_labels(labels_2D):\n",
    "    '''wrap labels that cross prime meridian '''\n",
    "\n",
    "    prime = labels_2D.loc[dict(lon=labels_2D.lon[:2])]\n",
    "\n",
    "    prime_ids = np.unique(prime)[~np.isnan(np.unique(prime))].astype('int')\n",
    "    mirrormapBool = xr.DataArray(np.in1d(id_1, prime_ids).reshape(id_1.shape),\n",
    "                                 dims=labels_2D.dims,\n",
    "                                 coords=labels_2D.coords)\n",
    "    earth2 = labels_2D.where(mirrormapBool==True, drop=False, other=np.nan)\n",
    "    earth1 = labels_2D.where(mirrormapBool==False, drop=False, other=np.nan) # Remove label from origonal map\n",
    "    \n",
    "    # Concatenate and convert to binary\n",
    "    res = labels_2D.lon[1].values-labels_2D.lon[0].values # resolution of longitude\n",
    "    two_earths = xr.concat([earth1, earth2], dim='lon')\n",
    "    two_earths['lon'] = np.arange(float(da.lon[0].values),(two_earths.lon[-1].values*2)+res,res)\n",
    "    bitmap_binary_2E = two_earths.where(two_earths>0, drop=False, other=0)\n",
    "    bitmap_binary_2E = bitmap_binary_2E.where(bitmap_binary_2E==0, drop=False, other=1)\n",
    "    bitmap_bool_2E = bitmap_binary_2E>0\n",
    "    \n",
    "    return bitmap_binary_2E, bitmap_bool_2E"
   ]
  },
  {
   "cell_type": "code",
   "execution_count": null,
   "metadata": {},
   "outputs": [],
   "source": [
    "#hide\n",
    "def _id(binary_images):\n",
    "    '''label 2D features from binary images'''\n",
    "    labels = np.zeros_like(binary_images)\n",
    "    for i in range(labels.shape[0]):\n",
    "        L = label_sk(binary_images[i,:,:], connectivity=2, return_num=True)\n",
    "        L = xr.DataArray(L[0], dims=['lat', 'lon'],\n",
    "                         coords={'lat':binary_images.lat, 'lon':binary_images.lon})\n",
    "        L = L.where(L>0, drop=False, other=np.nan)\n",
    "        if i == 0:\n",
    "            labels[i,:,:] = L\n",
    "        if i == 1:\n",
    "            maxl = np.nanmax(labels[i-1,:,:])\n",
    "            if np.isnan(maxl):\n",
    "                labels[i,:,:] = L+0\n",
    "            else:\n",
    "                labels[i,:,:] = L+maxl\n",
    "        else:\n",
    "            maxl = np.nanmax(labels[:i-1,:,:])\n",
    "            if np.isnan(maxl):\n",
    "                labels[i,:,:] = L+0\n",
    "            else:\n",
    "                labels[i,:,:] = L+maxl\n",
    "            \n",
    "    id_2D = xr.DataArray(labels, dims=binary_images.dims, coords=binary_images.coords)\n",
    "    id_2D = id_2D.where(id_2D!=0, drop=False, other=np.nan)\n",
    "    \n",
    "    return id_2D"
   ]
  },
  {
   "cell_type": "code",
   "execution_count": null,
   "metadata": {},
   "outputs": [],
   "source": [
    "#hide\n",
    "def _id_area(labels_2D, min_size_quartile):\n",
    "    '''calculatre area with regionprops'''\n",
    "    \n",
    "    props = regionprops(labels_2D.astype('int').values)\n",
    "\n",
    "    labelprops = [p.label for p in props]\n",
    "    labelprops = xr.DataArray(labelprops, dims=['label'], coords={'label': labelprops}) \n",
    "    coords = [p.coords for p in props] # time, lat, lon\n",
    "\n",
    "    area = []\n",
    "    res = labels_2D.lat[1].values-labels_2D.lat[0].values # resolution of latitude\n",
    "    for i in range(len(coords)):  \n",
    "        area.append(np.sum((res*111)*np.cos(np.radians(labels_2D.lat[coords[i][:,1]].values)) * (res*111)))\n",
    "        area = xr.DataArray(area, dims=['label'], coords={'label': labelprops})  \n",
    "    min_area = np.percentile(area, min_size_quartile*100)\n",
    "    print('min area (km2) \\t', min_area)  \n",
    "    \n",
    "    return area, min_area, labelprops"
   ]
  },
  {
   "cell_type": "code",
   "execution_count": null,
   "metadata": {},
   "outputs": [],
   "source": [
    "#export\n",
    "def label(da):\n",
    "    '''2D image labeling\n",
    "    \n",
    "    Parameters\n",
    "    ----------\n",
    "    da : xarray.DataArray\n",
    "        The data to label\n",
    "        \n",
    "    Returns\n",
    "    -------\n",
    "    labels : xarray.DataArray\n",
    "        Integer labels of connected regions.\n",
    "    '''\n",
    "        \n",
    "    # Converts data to binary, defines structuring element, and performs morphological closing then opening\n",
    "    mo_binary = _morphological_operations(data, include_poles=False, radius=8) \n",
    "    \n",
    "    # label 2D features from binary images\n",
    "    id_2D = _id(binary_images)\n",
    "\n",
    "    # wrap labels that cross prime meridian\n",
    "    bitmap_binary_2E, bitmap_bool_2E = _wrap_labels(id_2D)\n",
    "    \n",
    "    ### ! Reapply land maks HERE\n",
    "    \n",
    "    # relabel 2D features from binary images that are wrapped around meridian\n",
    "    id_2D_wrap = _id(bitmap_binary_2E)\n",
    "    \n",
    "    # Convert labels to DataArray\n",
    "    id_2D_wrap = xr.DataArray(id_2D_wrap, \n",
    "                              dims=bitmap_bool_2E.dims, \n",
    "                              coords=bitmap_bool_2E.coords)\n",
    "    id_2D_wrap = id_2D_wrap.where(id_2D_wrap!= 0, drop=False, other=np.nan)\n",
    "\n",
    "    # calculatre area with regionprops\n",
    "    area, min_area, labelprops = _id_area(id_2D_wrap, .75)\n",
    "    \n",
    "    keep_labels = labelprops.where(area>=min_area, drop=True)\n",
    "\n",
    "    id_2D_area_bool = xr.DataArray(np.in1d(id_2D_wrap, keeplabels).reshape(id_2D_wrap.shape),\n",
    "                            dims=id_2D_wrap.dims, coords=id_2D_wrap.coords)\n",
    "    \n",
    "    # Calculate Percent of total MHW area retained\n",
    "    tot_area = int(np.sum(area.values))\n",
    "    small_area = area.where(area<=min_area, drop=True)\n",
    "    small_area = int(np.sum(small_area.values))\n",
    "    percent_area_kept = 1-(small_area/tot_area)\n",
    "\n",
    "    \n",
    "#     num_2D_features = np.nanmax(keep_labels.values)  \n",
    "#     print('Number of 2D labeled features = \\t', num_2D_features)\n",
    "\n",
    "    ds_out = id_2D_area_bool.rename('labels')\n",
    "    ds_out.attrs['min_area'] = min_area\n",
    "    ds_out.attrs['percent_area_kept'] = percent_area_kept\n",
    "    \n",
    "    return ds_out"
   ]
  },
  {
   "cell_type": "markdown",
   "metadata": {},
   "source": [
    "`label` lets us identify marine heatwaves as 2-dimensional objects using morphological image processing. Let's run through an example using the NOAA Optimum Interpolation Sea Surface Temperature (OISST) dataset. We are using data that had been preprocessed as to keep only those anomalies that exceed the 90th percentile with respect to the 1981-2020 monthly climatology. "
   ]
  },
  {
   "cell_type": "markdown",
   "metadata": {},
   "source": [
    "Let's test `_check_input` to make sure that our data is either an `xr.DataArray` or `xr.Dataset`"
   ]
  },
  {
   "cell_type": "code",
   "execution_count": null,
   "metadata": {},
   "outputs": [],
   "source": [
    "# import xarray as xr\n",
    "# import numpy as np\n",
    "\n",
    "# data_array = xr.DataArray(np.random.rand(5,3,3), dims=['time','lat','lon'], name='test',\n",
    "#                           coords={'time': np.random.rand(5),\n",
    "#                                   'lat': np.random.rand(3),\n",
    "#                                   'lon': np.random.rand(3)})\n",
    "\n",
    "# data_out = _check_input(data_array,'test')\n",
    "# assert type(data_out)==xr.core.dataarray.DataArray or type(data_out)==xr.core.dataarray.Dataset\n"
   ]
  },
  {
   "cell_type": "code",
   "execution_count": null,
   "metadata": {},
   "outputs": [],
   "source": [
    "#export\n",
    "def track(da):\n",
    "    '''Track labeled features\n",
    "        \n",
    "    Parameters\n",
    "    ----------\n",
    "    da : xarray.DataArray\n",
    "        The data in which to track features\n",
    "        \n",
    "    Returns\n",
    "    -------\n",
    "    tracked : xarray.DataArray\n",
    "        Integer labels of tracked regions.\n",
    "    '''\n",
    "    \n",
    "    ####### Label with Skimage\n",
    "    # relabel\n",
    "    label_sk3, final_features = label_sk(data, connectivity=3, return_num=True)\n",
    "\n",
    "    # Convert labels to DataArray\n",
    "    mhw_id_3 = xr.DataArray(label_sk3, dims=['time','lat','lon'],\n",
    "                                 coords={'time': data.time, 'lat': data.lat,'lon': data.lon})\n",
    "    mhw_id_3 = mhw_id_3.where(mhw_id_3 != 0, drop=False, other=np.nan)\n",
    "\n",
    "    print('final features \\t', final_features)\n",
    "\n",
    "    dataout = mhw_id_3.rename('labels')\n",
    "    dataout.attrs['total MHWs'] = final_features\n",
    "    dataout.attrs['minimum size (km2)'] = data.attrs['min_area']\n",
    "#     dataout.attrs['minimum size percentile'] = min_size_quartile\n",
    "    dataout.attrs['fraction of total MHW area kept'] = data.attrs['percent_area_kept']\n",
    "#     dataout.attrs['temperature threshold percentile'] = threshold\n",
    "#     dataout.attrs['morphological radius'] = radius\n",
    "#     dataout.attrs['connectivity'] = connectivity\n",
    "#     dataout.attrs['resolution'] = res\n",
    "\n",
    "#     out_path = '/glade/scratch/scanh/MHW_labels/'\n",
    "#     dataout.to_netcdf(out_path + 'MHWlabels_monthly_OISST_' + outnetCDF, mode='w')\n",
    "\n",
    "    return dataout\n"
   ]
  },
  {
   "cell_type": "code",
   "execution_count": null,
   "metadata": {},
   "outputs": [],
   "source": [
    "#hide\n",
    "from nbdev.export import notebook2script\n",
    "notebook2script()\n",
    "# this is the same as running nbdev_build_lib"
   ]
  },
  {
   "cell_type": "code",
   "execution_count": null,
   "metadata": {},
   "outputs": [],
   "source": []
  }
 ],
 "metadata": {
  "kernelspec": {
   "display_name": "Python [conda env:miniconda3-ocetrac-2020]",
   "language": "python",
   "name": "conda-env-miniconda3-ocetrac-2020-py"
  }
 },
 "nbformat": 4,
 "nbformat_minor": 4
}
