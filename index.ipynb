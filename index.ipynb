{
 "cells": [
  {
   "cell_type": "code",
   "execution_count": null,
   "metadata": {},
   "outputs": [],
   "source": [
    "#hide\n",
    "%load_ext autoreload\n",
    "%autoreload 2"
   ]
  },
  {
   "cell_type": "code",
   "execution_count": null,
   "metadata": {},
   "outputs": [],
   "source": [
    "#hide\n",
    "from ocetrac.core import *"
   ]
  },
  {
   "cell_type": "markdown",
   "metadata": {},
   "source": [
    "# Ocetrac\n",
    "\n",
    "> Label and track unique geospatial features from gridded datasets\n"
   ]
  },
  {
   "cell_type": "markdown",
   "metadata": {},
   "source": [
    "`Ocetrac` is a python package origonally develped to track the spatiotemporal evolution of marine heatwaves globally. It leverages object-tracking with spatial and temporal connectivity. As an analogy, let's invision one of those 1960s style lava lamps. \n",
    "\n",
    "![](https://media.giphy.com/media/3o7WTIllyuaXi81krK/giphy.gif)\n",
    "\n",
    "The bright colored globs of goo rising upwards represent features in our data that we want to track both horizontally (space) and vertically (time) in the lamp. The goo is constantly changing shape and size, sometimes merging or splitting into two! It's a lot to keep track of. Some geophysical properties can act like to goo in the lava lamp. Using `Ocetrac` we can more easily characterize the spatiotemporal evolution of these features to characterize their behaviors over time. \n",
    "\n"
   ]
  },
  {
   "cell_type": "markdown",
   "metadata": {},
   "source": [
    "## Install"
   ]
  },
  {
   "cell_type": "markdown",
   "metadata": {},
   "source": [
    "`pip install ocetrac`"
   ]
  },
  {
   "cell_type": "markdown",
   "metadata": {},
   "source": [
    "## How to use"
   ]
  },
  {
   "cell_type": "markdown",
   "metadata": {},
   "source": [
    "Let's see this as work"
   ]
  },
  {
   "cell_type": "code",
   "execution_count": null,
   "metadata": {},
   "outputs": [],
   "source": []
  },
  {
   "cell_type": "code",
   "execution_count": null,
   "metadata": {},
   "outputs": [],
   "source": []
  }
 ],
 "metadata": {
  "kernelspec": {
   "display_name": "Python [conda env:miniconda3-ocetrac-2020]",
   "language": "python",
   "name": "conda-env-miniconda3-ocetrac-2020-py"
  }
 },
 "nbformat": 4,
 "nbformat_minor": 4
}
